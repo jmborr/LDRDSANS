{
 "metadata": {
  "kernelspec": {
   "display_name": "Python 2",
   "language": "python",
   "name": "python2"
  },
  "language_info": {
   "codemirror_mode": {
    "name": "ipython",
    "version": 2
   },
   "file_extension": ".py",
   "mimetype": "text/x-python",
   "name": "python",
   "nbconvert_exporter": "python",
   "pygments_lexer": "ipython2",
   "version": "2.7.5"
  },
  "name": "",
  "signature": "sha256:f71b258669889341509662db907ef8593212217655a3a56c55b155863b038443"
 },
 "nbformat": 3,
 "nbformat_minor": 0,
 "worksheets": [
  {
   "cells": [
    {
     "cell_type": "markdown",
     "metadata": {},
     "source": [
      "<h1>LDRD SANS</h1>\n",
      "\n",
      "<a id='Table of Contents'></a><h3>Table of Contents</h3>  \n",
      "<a href='#Setup'>Setup (imports)</a>  \n",
      "<a href='#Participants'>Participants</a>  \n",
      "<a href='#Goals'>Goals</a>  \n",
      "\n",
      "<a id=\"framework\"></a><b>Framework</b>  \n",
      "<a href='#framework.incite'>INCITE account</a>  \n",
      "\n",
      "<a id=\"cel7a_benchmark\"></a><b>cel7a Benchmark</b>  \n",
      "<a href='#cel7a_benchmark.PDB'>Obtain the representative PDB file</a>  \n",
      "<a href='#cel7a_benchmark.xtc2binpos'>Translate benchmark trajectories to binpos format</a>  \n",
      "\n",
      "<a id=\"scrkinase_benchmark\"></a><b>Scr kinase Benchmark</b>  \n",
      "\n",
      "\n",
      "<a id='clustering'></a><b>Clustering</b>  \n",
      "<a href='#clustering.fast_protein_cluster'>Program fast_protein_cluster</a>  \n",
      "\n",
      "<a id='fireworks'></a><b>Fireworks</b>  \n",
      "<a href='#fireworks.localtest'>Run fast_protein_cluster test with a workflow in the local workstation</a>  \n",
      "<a href='#fireworks.remotetest'>Run fast_protein_cluster in Titan</a>\n",
      "\n",
      "<a id='Meetings'></a><b>Meetings</b>  \n",
      "<a href='#Meetings.2016.XX.XX'>Meeting template</a>  \n",
      "\n",
      "<a href='#Syntax'>HTML and MARKDOWN SYNTAX EXAMPLES</a></br>"
     ]
    },
    {
     "cell_type": "markdown",
     "metadata": {},
     "source": [
      "(<a href='#Table of Contents'>Top</a>)<a id='Setup'></a><h3>Setup (imports)</h3>"
     ]
    },
    {
     "cell_type": "code",
     "collapsed": false,
     "input": [
      "%matplotlib inline\n",
      "import numpy as np\n",
      "import scipy as sc\n",
      "import lmfit as lm\n",
      "import matplotlib.pyplot as plt"
     ],
     "language": "python",
     "metadata": {},
     "outputs": [],
     "prompt_number": 2
    },
    {
     "cell_type": "markdown",
     "metadata": {},
     "source": [
      "(<a href='#Table of Contents'>Top</a>)<a id='Participants'></a><h3>Participants</h3>\n",
      "\n",
      "* Loukas Petridis\n",
      "* Sai Venkatesh\n",
      "* Hugh O'Neil\n",
      "* Volker Urban\n",
      "* Xiaolin Cheng\n",
      "* Jeremy C. Smith"
     ]
    },
    {
     "cell_type": "markdown",
     "metadata": {},
     "source": [
      "(<a href='#Table of Contents'>Top</a>)<a id='Goals'></a><h3>Goals</h3>\n",
      "\n",
      "My tasks are the following:  \n",
      "\n",
      "* Clusters full-atom protein conformations.\n",
      "* Fit static structure factor I(Q) of a few clusters against experimental structure factor.\n",
      "* Determine optimal number of clusters with a Bayesian inference."
     ]
    },
    {
     "cell_type": "markdown",
     "metadata": {},
     "source": [
      "<h2>Framework</h2>\n",
      "This section has to do with deployement and maintenance of source code in the execution cluster(s) (Titan,...)."
     ]
    },
    {
     "cell_type": "markdown",
     "metadata": {},
     "source": [
      "(<a href='#framework'>Top</a>)<a id='framework.incite'></a><h3>INCITE account</h3>  \n",
      "The account in OLCF to defray computational time: <b>BIP141</b>. It grants access to titan, rhea, eos, and dtn."
     ]
    },
    {
     "cell_type": "markdown",
     "metadata": {},
     "source": [
      "(<a href='#cel7a_benchmark'>Top</a>)<h2>cel7a Benchmark</h2>\n",
      "A series of trajectories to be clustered. In <i>titan:/lustre/atlas/proj-shared/bip141/jmborr/cel7a</i> we have 13 trajectories under subdirectory <i>initial_runs</i> in as <code>xtc</code> format. One of the trajectories is also in <i>irun:cel7a/initial_runs/1</i>. This trajectory has 22370 frames.\n",
      "\n",
      "PDB file [topol.pdb](cel7a/topol.pdb) contains protein, solvent, ions, and other molecules. The protein in this file occupies:\n",
      "\n",
      "* residues 1-496\n",
      "* atoms 1-7046\n",
      "\n",
      "In reality there are 497 residues in this protein, but the last reside (\"LEU\") has been merged to the next molecule (\"MAS\"), so that we will neglect this residue."
     ]
    },
    {
     "cell_type": "markdown",
     "metadata": {},
     "source": [
      "(<a href='#cel7a_benchmark'>Top</a>)<a id='cel7a_benchmark.PDB'></a><h3>Obtain the representative PDB file</h3>  \n",
      "I tried creating the PDB file in <i>titan</i> cluster but <code>gmx_mpi</code> did not do the job.  \n",
      "I installed gromacs in <i>irun</i> and in <i>irun:cel7a/initial_runs/1</i> I run:  \n",
      "<code>gmx trjconv -s topol.tpr -f traj.xtc -o topol.pdb -b 0 -e 0</code>  \n",
      "and enter group number <code>0</code> when prompted to generate <i>topol.pdb</i> with all atoms in the system."
     ]
    },
    {
     "cell_type": "markdown",
     "metadata": {},
     "source": [
      "(<a href='#cel7a_benchmark'>Top</a>)<a id='cel7a_benchmark.xtc2binpos'></a><h3>Translate benchmark trajectories to binpos format</h3>  \n",
      "See Github issue [#10](https://github.com/jmborr/LDRDSANS/issues/10) for details.   "
     ]
    },
    {
     "cell_type": "markdown",
     "metadata": {},
     "source": [
      "(<a href='#scrkinase_benchmark'>Top</a>)<h2>Scr kinase Benchmark</h2>\n",
      "\n",
      "In <i>titan:/lustre/atlas/proj-shared/bip141/src</i> Loukas has:\n",
      "\n",
      "- topol.tpr : gromacs topology\n",
      "- traj_comp.xtc : trajectory containing only the protein (written every 10 ps)\n",
      "- d_1-144_h_145-250_d2o_043.pdb : the PDB for the labeled model 2\n",
      "- h_1-250_d2o_100.pdb : the PDB for the unlabeled model 1\n",
      "- sassena.dcd : trajectory containing protein & water&ions, used for SANS calculation, written every 100 ps\n",
      "\n",
      "I downloaded all these files under a directory pointed to by soft link [scrkinase](files/scrkinase). Also, I stored the PDB files in [documents/scrkinase](files/documents/scrkinase).\n",
      "\n",
      "Power point presentation [in_silico_labeling.pptx](files/documents/scrkinase/in_silico_labeling.pptx) shows the SANS profiles for the two PDB models, using the same trajectory but different deuteration schemes, represented by the two PDB files.\n",
      "\n",
      "<center>\n",
      "<a href=\"files/documents/scrkinase/in_silico_labeling_1.png\"><img src=\"files/documents/scrkinase/in_silico_labeling_1.png\" width=\"500\" alt=\"documents/scrkinase/in_silico_labeling_1.png\"></a>\n",
      "\n",
      "<a href=\"files/documents/scrkinase/in_silico_labeling_2.png\"><img src=\"files/documents/scrkinase/in_silico_labeling_2.png\" width=\"500\" alt=\"documents/scrkinase/in_silico_labeling_2.png\"></a>\n",
      "</center>"
     ]
    },
    {
     "cell_type": "markdown",
     "metadata": {},
     "source": [
      "<h2>Clustering</h2>"
     ]
    },
    {
     "cell_type": "markdown",
     "metadata": {},
     "source": [
      "(<a href='#clustering'>Top</a>)<a id='clustering.fast_protein_cluster'></a><h3>Program fast_protein_cluster</h3>  \n",
      "I forked the [original Github repository](https://github.com/lhhunghimself/fast_protein_cluster) into Github repository [camm/fast_protein_cluster](https://github.com/camm/fast_protein_cluster). A local copy is clone under subdirectory <i>fast_protein_cluster</i>.  \n",
      "\n",
      "I compiled this program in Titan: <i>/ccs/proj/bip141/sw/titan/fast_protein_cluster/v0.4</i> and created a <code>module</code> file.  Refer to GitHub issue [Compile newest fast_protein_cluster in Titan](https://github.com/jmborr/LDRDSANS/issues/7) and wikipage [Installation on different environments](https://github.com/camm/fast_protein_cluster/wiki/Installation-on-different-environments) for installation instructions.\n"
     ]
    },
    {
     "cell_type": "markdown",
     "metadata": {},
     "source": [
      "<h2>Fireworks</h2>"
     ]
    },
    {
     "cell_type": "markdown",
     "metadata": {},
     "source": [
      "(<a href='#fireworks'>Top</a>)<a id='fireworks.localtest'></a><h3>Run fast_protein_cluster test with a workflow in the local workstation</h3>  \n",
      "Create a directory for the database, and start the mongo database:  \n",
      "<code>ROOTDIR=/projects/development/LDRDSANS/fireworks/localtest\n",
      "mkdir -p $ROOTDIR/db\n",
      "numactl --interleave=all mongod --logpath $ROOTDIR/mongod.log --dbpath $ROOTDIR/db --fork &\n",
      "</code>\n",
      "\n",
      "In <i>fireworks/localtest</i>, Python script [test_cluster.py](files/fireworks/localtest/test_cluster.py) sets up the launchpad and executes a single firetask, script [test_cluster.sh](files/fireworks/localtest/test_cluster.sh) that:  \n",
      "\n",
      "* Load environment for the clustering program\n",
      "* Set up the scratch directory\n",
      "* Transfer input files\n",
      "* Run the cluster script\n",
      "\n",
      "One could create one firetask for each of these tasks, though."
     ]
    },
    {
     "cell_type": "markdown",
     "metadata": {},
     "source": [
      "(<a href='#fireworks'>Top</a>)<a id='fireworks.remotetest'></a><h3>Run fast_protein_cluster in Titan</h3>  \n",
      "See Github issue [#12](https://github.com/jmborr/LDRDSANS/issues/12) for details.   \n",
      "In subdirectory <i>fireworks/remotetest</i>  \n",
      "Workflow [transfer_and_cluster_CA.yaml](files/fireworks/remotetest/transfer_and_cluster_CA.yaml) send input files, runs the cluster job, and bring the clustered files back to SNS.  \n",
      "\n",
      "<code>lpad -l my_launchpad.yaml reset\n",
      "lpad -l my_launchpad.yaml add transfer_and_cluster_CA.yaml</code>\n",
      "\n",
      "Clustering output files cannot be transferred to desired target directory <i>/SNS/lustre/CAMM/users/jbq/research/LDRDSANS/cel7a/initial_runs/1</i>. Instead, I could transfer them to I/i>/SNS/users/jbq/Downloads/</i>."
     ]
    },
    {
     "cell_type": "markdown",
     "metadata": {},
     "source": [
      "<a id='Meetings'></a><h2>Meetings</h2>"
     ]
    },
    {
     "cell_type": "markdown",
     "metadata": {},
     "source": [
      "(<a href='#Meetings'>Top</a>)<a id='Meetings.2016.XX.XX'></a><h3>Meeting template</h3>\n",
      "Write something here."
     ]
    },
    {
     "cell_type": "markdown",
     "metadata": {},
     "source": [
      "(<a href='#Table of Contents'>Top</a>)<a id='Syntax'></a><h3>Syntax Examples</h3>\n",
      "local link: [link](files/link)</br>\n",
      "remote link: <a href=\"http://ambermd.org/\">http://ambermd.org</a>\n",
      "<font face=\"courier new\"> font face=\"courier new\" </font><br/>\n",
      "$$S_{model}(Q,E)=A(Q)\\cdot S_{elastic}(E) + B(Q)\\cdot S_{simulation}(Q,E)\\otimes S_{elastic}(E) + C(Q)+D(Q)\\cdot E$$\n",
      "<pre> Quoted text </pre>\n",
      "<center><table><tr>\n",
      "<td><a href=\"files/image.png\"><img src=\"files/image.png\" width=\"300\" height=\"250\" alt=\"image here\"></a> <br/>\n",
      "    <i>image caption</i></td>\n",
      "<td>some text</td>\n",
      "</tr></table></center>"
     ]
    },
    {
     "cell_type": "code",
     "collapsed": false,
     "input": [],
     "language": "python",
     "metadata": {},
     "outputs": [],
     "prompt_number": null
    }
   ],
   "metadata": {}
  }
 ]
}