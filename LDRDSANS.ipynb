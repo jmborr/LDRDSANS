{
 "metadata": {
  "kernelspec": {
   "display_name": "Python 2",
   "language": "python",
   "name": "python2"
  },
  "language_info": {
   "codemirror_mode": {
    "name": "ipython",
    "version": 2
   },
   "file_extension": ".py",
   "mimetype": "text/x-python",
   "name": "python",
   "nbconvert_exporter": "python",
   "pygments_lexer": "ipython2",
   "version": "2.7.5"
  },
  "name": "",
  "signature": "sha256:f221eb9f6d18f349c8178a1b635beaf1b801adb13dc535ec3a4d914adea521df"
 },
 "nbformat": 3,
 "nbformat_minor": 0,
 "worksheets": [
  {
   "cells": [
    {
     "cell_type": "markdown",
     "metadata": {},
     "source": [
      "<h1>LDRD SANS</h1>\n",
      "\n",
      "<a id='Table of Contents'></a><h3>Table of Contents</h3>  \n",
      "<a href='#Setup'>Setup (imports)</a>  \n",
      "<a href='#Participants'>Participants</a>  \n",
      "<a href='#Goals'>Goals</a>  \n",
      "\n",
      "<a id=\"framework\"></a><b>Framework</b>  \n",
      "<a href='#framework.incite'>INCITE account</a>  \n",
      "\n",
      "<a id=\"SANSdata\"></a><b>Properties of SANS data</b>  \n",
      "<a href='#SANSdata.smearing'>Smearing</a>  \n",
      "\n",
      "<a id=\"benchmark\"></a><b>Benchmarks</b>  \n",
      "\n",
      "&nbsp;&nbsp;&nbsp;&nbsp;<a id=\"cel7a_benchmark\"></a><b>cel7a Benchmark</b>  \n",
      "<a href='#cel7a_benchmark.PDB'>Obtain the representative PDB file</a>  \n",
      "<a href='#cel7a_benchmark.xtc2binpos'>Translate benchmark trajectories to binpos format</a>  \n",
      "\n",
      "&nbsp;&nbsp;&nbsp;&nbsp;<a id=\"scrkinase_benchmark\"></a><b>Scr kinase Benchmark</b>  \n",
      "<a href='#scrkinase_benchmark.titanLocalClustering'>Clustering in Titan and locally</a>  \n",
      "<a href='#scrkinase_benchmark.correlate_RMS_I'>Correlate RMS and I(Q)</a>  \n",
      "\n",
      "&nbsp;&nbsp;&nbsp;&nbsp;<a id=\"hiAPP_benchmark\"></a><b>hiAPP Benchmark</b>  \n",
      "<a href='#hiAPP_benchmark.trajfiles'>Trajectory files</a>  \n",
      "<a href='#hiAPP_benchmark.clustering'>Clustering</a>  \n",
      "<a href='#hiAPP_benchmark.sassena'>Sassena</a>  \n",
      "<a href='#hiAPP_benchmark.correlate_RMS_I'>Correlate RMS and I(Q)</a>  \n",
      "\n",
      "<a id='clustering'></a><b>Clustering</b>  \n",
      "<a href='#clustering.fast_protein_cluster'>Program fast_protein_cluster</a>  \n",
      "\n",
      "<a id='fireworks'></a><b>Fireworks</b>  \n",
      "<a href='#fireworks.localtest'>Run fast_protein_cluster test with a workflow in the local workstation</a>  \n",
      "<a href='#fireworks.remotetest'>Run fast_protein_cluster in Titan</a>\n",
      "\n",
      "<a id='pegasus'></a><b>Pegasus</b>  \n",
      "<a href='#pegasus.videoconference'>videoconference March 2017</a>    \n",
      "\n",
      "<a id='sassena'></a><b>Sassena</b>  \n",
      "<a href='#sassena.coherentcalc'>Details on how to calculate the coherent structure factor with sassena v1.4.1</a>    \n",
      "<a href='#sassena.coherentcalcV1.5.0'>Details on how to calculate the coherent structure factor with sassena v1.5.0</a>    \n",
      "\n",
      "<a id='Meetings'></a><b>Meetings and Reports</b>  \n",
      "<a href='#Meetings.2016.03.16'>Meeting 2016.03.16</a>  \n",
      "<a href='#Meetings.2017.05.17'>Progress report 2017.05.17</a>  \n",
      "\n",
      "<a href='#Syntax'>HTML and MARKDOWN SYNTAX EXAMPLES</a></br>"
     ]
    },
    {
     "cell_type": "markdown",
     "metadata": {},
     "source": [
      "(<a href='#Table of Contents'>Top</a>)<a id='Setup'></a><h3>Setup (imports)</h3>"
     ]
    },
    {
     "cell_type": "code",
     "collapsed": false,
     "input": [
      "%matplotlib inline\n",
      "import numpy as np\n",
      "import scipy as sc\n",
      "import lmfit as lm\n",
      "import matplotlib.pyplot as plt"
     ],
     "language": "python",
     "metadata": {},
     "outputs": [],
     "prompt_number": 2
    },
    {
     "cell_type": "markdown",
     "metadata": {},
     "source": [
      "(<a href='#Table of Contents'>Top</a>)<a id='Participants'></a><h3>Participants</h3>\n",
      "\n",
      "* Loukas Petridis\n",
      "* Sai Venkatesh\n",
      "* Hugh O'Neil\n",
      "* Volker Urban\n",
      "* Xiaolin Cheng\n",
      "* Jeremy C. Smith"
     ]
    },
    {
     "cell_type": "markdown",
     "metadata": {},
     "source": [
      "(<a href='#Table of Contents'>Top</a>)<a id='Goals'></a><h3>Goals</h3>\n",
      "\n",
      "My tasks are the following:  \n",
      "\n",
      "* Clusters full-atom protein conformations.\n",
      "* Fit static structure factor I(Q) of a few clusters against experimental structure factor.\n",
      "* Determine optimal number of clusters with a Bayesian inference."
     ]
    },
    {
     "cell_type": "markdown",
     "metadata": {},
     "source": [
      "<h2>Framework</h2>\n",
      "This section has to do with deployement and maintenance of source code in the execution cluster(s) (Titan,...)."
     ]
    },
    {
     "cell_type": "markdown",
     "metadata": {},
     "source": [
      "(<a href='#framework'>Top</a>)<a id='framework.incite'></a><h3>INCITE account</h3>  \n",
      "The account in OLCF to defray computational time: <b>BIP141</b>. It grants access to titan, rhea, eos, and dtn."
     ]
    },
    {
     "cell_type": "markdown",
     "metadata": {},
     "source": [
      "(<a href='#SANSdata'>Top</a>)<a id='SANSdata.smearing'></a><h3>Smearing</h3>  \n",
      "\n",
      "\"Smearing\" stands for convolution of the model structure factor with the instrument resolution. Two different types of SANS experiments give raise to two types of resolution function.  \n",
      "\n",
      "<b>Smearing in the magnitude in Q</b>. By far the most common type of experiment. For a given $\\vec{Q}$ we have smearing in $\\mid \\vec{Q} \\mid$. In the SANS scattering it ammounts to radial integration:\n",
      "\n",
      "<center><a href=\"files/documents/SANSdata/smearing_in_Q.png\"><img src=\"files/documents/SANSdata/smearing_in_Q.png\" width=\"100\" alt=\"documents/scrkinase/SANSdata/smearing_in_Q.png\"></a></center>\n",
      "\n",
      "$\\frac{1}{\\pi} \\int R(Q',Q)I(Q',\\phi)dQ d\\phi = \\int R(Q',Q)I(Q')dQ$ with $I(Q') \\equiv \\langle I(Q',\\phi) \\rangle_\\phi$\n",
      "\n",
      "The shape of the resolution function is taken as Gaussian with a Q-dependent resolution function: \n",
      "$R(Q',Q)=\\frac{1}{2\\pi\\sigma^2(Q)}e^{-\\frac{(Q'-Q)^2}{2\\sigma^2(Q)}}$.\n",
      "Reduced data in Mantid has a column termed <i>dQ</i> which is the $FWHM(Q)$ from which $\\sigma(Q)$ can be obtained.\n",
      "\n",
      "<b>Tangential smearing</b>. This type of smearing is rare and only present with USANS experiments. In this case and for a given $(Q,\\phi)$ point, integration must be done along a line perpendicular to the radial direction:\n",
      "\n",
      "<center><a href=\"files/documents/SANSdata/smearing_tangential.png\"><img src=\"files/documents/SANSdata/smearing_tangential.png\" width=\"150\" alt=\"documents/scrkinase/SANSdata/smearing_tangential.png\"></a></center>\n",
      "\n",
      "In cartesian coordinates, direction given by unit vector $\\hat{v}$ such that $\\vec{Q}\\hat{v}=0$. The parametric equation of the tangential line is $\\vec{r}(\\lambda)=\\vec{Q}+\\lambda\\hat{v}$. Thus, smearing becomes:  \n",
      "$\\int_{-\\infty}^{\\infty}d\\lambda R(\\vec{Q}-\\vec{r}(\\lambda))I(\\vec{r}(\\lambda))=I_s(\\vec{Q})$ and finally\n",
      "$I_s(Q)=\\frac{1}{2\\pi}\\int d\\phi I_s(\\vec{Q})$."
     ]
    },
    {
     "cell_type": "markdown",
     "metadata": {},
     "source": [
      "(<a href='#cel7a_benchmark'>Top</a>)<h2>cel7a Benchmark</h2>\n",
      "A series of trajectories to be clustered. In <i>titan:/lustre/atlas/proj-shared/bip141/jmborr/cel7a</i> we have 13 trajectories under subdirectory <i>initial_runs</i> in as <code>xtc</code> format. One of the trajectories is also in <i>irun:cel7a/initial_runs/1</i>. This trajectory has 22370 frames.\n",
      "\n",
      "PDB file [topol.pdb](cel7a/topol.pdb) contains protein, solvent, ions, and other molecules. The protein in this file occupies:\n",
      "\n",
      "* residues 1-496\n",
      "* atoms 1-7046\n",
      "\n",
      "In reality there are 497 residues in this protein, but the last reside (\"LEU\") has been merged to the next molecule (\"MAS\"), so that we will neglect this residue."
     ]
    },
    {
     "cell_type": "markdown",
     "metadata": {},
     "source": [
      "(<a href='#cel7a_benchmark'>Top</a>)<a id='cel7a_benchmark.PDB'></a><h3>Obtain the representative PDB file</h3>  \n",
      "I tried creating the PDB file in <i>titan</i> cluster but <code>gmx_mpi</code> did not do the job.  \n",
      "I installed gromacs in <i>irun</i> and in <i>irun:cel7a/initial_runs/1</i> I run:  \n",
      "<code>gmx trjconv -s topol.tpr -f traj.xtc -o topol.pdb -b 0 -e 0</code>  \n",
      "and enter group number <code>0</code> when prompted to generate <i>topol.pdb</i> with all atoms in the system."
     ]
    },
    {
     "cell_type": "markdown",
     "metadata": {},
     "source": [
      "(<a href='#cel7a_benchmark'>Top</a>)<a id='cel7a_benchmark.xtc2binpos'></a><h3>Translate benchmark trajectories to binpos format</h3>  \n",
      "See Github issue [#10](https://github.com/jmborr/LDRDSANS/issues/10) for details.   "
     ]
    },
    {
     "cell_type": "markdown",
     "metadata": {},
     "source": [
      "(<a href='#scrkinase_benchmark'>Top</a>)<h2>Scr kinase Benchmark</h2>\n",
      "\n",
      "In <i>titan:/lustre/atlas/proj-shared/bip141/src</i> Loukas has:\n",
      "\n",
      "- topol.tpr : gromacs topology\n",
      "- traj_comp.xtc : trajectory containing only the protein (written every 10 ps)\n",
      "- d_1-144_h_145-250_d2o_043.pdb : the PDB for the labeled model 2\n",
      "- h_1-250_d2o_100.pdb : the PDB for the unlabeled model 1\n",
      "- sassena.dcd : trajectory containing protein & water&ions, used for SANS calculation, written every 100 ps\n",
      "\n",
      "The water model is TIP4 but Loukas remvoed the dummy atom in the water molecule from the PDB and, xtc, and dcd files.\n",
      "\n",
      "I downloaded all these files under a directory pointed to by soft link [scrkinase](files/scrkinase). Also, I stored the PDB files in [documents/scrkinase](files/documents/scrkinase).\n",
      "\n",
      "Power point presentation [in_silico_labeling.pptx](files/documents/scrkinase/in_silico_labeling.pptx) shows the SANS profiles for the two PDB models, using the same trajectory but different deuteration schemes, represented by the two PDB files.\n",
      "\n",
      "<center>\n",
      "<a href=\"files/documents/scrkinase/in_silico_labeling_1.png\"><img src=\"files/documents/scrkinase/in_silico_labeling_1.png\" width=\"500\" alt=\"documents/scrkinase/in_silico_labeling_1.png\"></a>\n",
      "\n",
      "<a href=\"files/documents/scrkinase/in_silico_labeling_2.png\"><img src=\"files/documents/scrkinase/in_silico_labeling_2.png\" width=\"500\" alt=\"documents/scrkinase/in_silico_labeling_2.png\"></a>\n",
      "</center>"
     ]
    },
    {
     "cell_type": "markdown",
     "metadata": {},
     "source": [
      "(<a href='#scrkinase_benchmark'>Top</a>)<a id='scrkinase_benchmark.titanLocalClustering'></a><h3>Clustering in Titan and locally</h3>  \n",
      "\n",
      "See Github issue [#18](https://github.com/jmborr/LDRDSANS/issues/18) for details.   \n",
      "\n",
      "We can <b>cluster in Titan</b>:  \n",
      "\n",
      "Workflow [transfer_and_cluster_CA.yaml](files/scrkinase/transfer_and_cluster_CA.yaml)  performs the following steps:\n",
      "\n",
      "- transfer input files\n",
      "- obtain binpos files\n",
      "- obtain names file\n",
      "- cluster\n",
      "- transfer output files\n",
      "\n",
      "Setting up the infrastructure prior to running the workflow:\n",
      "\n",
      "- Start the launchpad: lpad -l ./[swan_launchpad.yaml](files/scrkinase/swan_launchpad.yaml) reset\n",
      "  * troubleshoot: if prompted with 'Enter host (default: localhost)', mongo may not be working in swan.ornl.gov. Contact Dave. \n",
      "- login to jmborr@dtn02.ccs.ornl.gov and there start the fw_start daemon that I previously [downloaded](https://code.ornl.gov/d3s/fw_olcf).\n",
      "  * troubleshoot: if not working, the tunnel between dtn02.ccs.ornl.gov and swan.ornl.gov may be down. Contact Dave.\n",
      "  * <code>./fw_start.py -u jmborr -a BIP141 -v --template_dir /ccs/home/jmborr/fw_olcf/templates /ccs/home/jmborr/deployment</code>.\n",
      "  * enter the password 'temptemp' to allow query database hosted in swan.ornl.gov.\n",
      "- [login to globus](https://www.globus.org) and activate the SNS and OLCF endpoints.\n",
      "\n",
      "Running the workflow:  \n",
      "<code>lpad -l my_launchpad.yaml reset\n",
      "lpad -l my_launchpad.yaml add transfer_and_cluster_CA.yaml</code>\n",
      "\n",
      "<b>Note</b>: Clustering output files cannot be transferred to desired target directory <i>/SNS/CAMM/users/jbq/research/LDRDSANS/scrkinase</i>. Instead, I could transfer them to I/i>/SNS/users/jbq/Downloads/</i>.\n",
      "\n",
      "We can <b>cluster in our workstation</b>:  \n",
      "In subdirectory <i>scrkinase/kmeans_hierarchy</i>  \n",
      "<code>./[cluster.sh](files/scrkinase/kmeans_hierarchy/cluster.sh) d_1-144_h_145-250_d2o_043.pdb sassena.dcd</code>  \n",
      "Does the following steps:  \n",
      "- Partition trajectory in 10 chunks retaining only the protein. Uses [partition_trajectory.py](files/scrkinase/kmeans_hierarchy/partition_trajectory.py).\n",
      "- Kmeans cluster of each chunk. Save cluster centroids to DCD file.  Uses [kmeans_cluster.py](files/scrkinase/kmeans_hierarchy/kmeans_cluster.py). \n",
      "- Gather the centroids into a single trajectory and names file.\n",
      "- create .pdb and .binpos files for the centroids. Uses [centroidsdcd2binpos.tcl](files/scrkinase/kmeans_hierarchy/centroidsdcd2binpos.tcl).\n",
      "- hierarchical clustering of the centroids.\n",
      "- Create linkage matrix from clustering output. Uses [fpch2scph.py](files/fpch2scph/fpch2scph.py).\n",
      "- Move all centroids files to centroids directory.\n",
      "- Plot a dendogram with the last 10 merged clusters. Uses [plot_linkage_matrix.py](files/fpch2scph/plot_linkage_matrix.py).\n",
      "\n",
      "The dendogram showing the last 20 linkages is:\n",
      "<center><a href=\"files/scrkinase/dendogram.png\"><img src=\"files/scrkinase/dendogram.png\" width=\"300\" alt=\"documents/scrkinase/dendogram.png\"></a></center>"
     ]
    },
    {
     "cell_type": "markdown",
     "metadata": {},
     "source": [
      "(<a href='#scrkinase_benchmark'>Top</a>)<a id='scrkinase_benchmark.correlate_RMS_I'></a><h3>Correlate RMS and I(Q)</h3>  \n",
      "\n",
      "Github issue [#21](https://github.com/jmborr/LDRDSANS/issues/21)\n",
      "\n",
      "Loukas ran Sassena on <i>sassena.dcd</i> trajectory, obtaining one HDF5 file containing I(Q) for each conformation. I put those files in <i>scrkinase/sassena</i>. File names are <i>frame*.h5.gz</i>, and I gzipped the files because they reduced size more than ten times.\n",
      "\n",
      "We use the 100 centroid conformations to calculate the RMS matrix and the matrix of I(Q) similarity $S_{ij}$:  \n",
      "<center>$S_{ij}^2 = \\frac{1}{N_Q} \\sum_{l=1}^{N_Q} (\\frac{I_i(Q_l)-I_j(Q_l)}{I_i(Q_l)+I_j(Q_l)})^2$</center>  \n",
      "\n",
      "We obtain the RMS matrix with <code>fast_protein_cluster</code>. In <i>scrkinase/kmeans_hierarchy/centroids</i>:  \n",
      "<code>fast_protein_cluster -i centroids -o centroids --binary_coords --cluster_rmsd --cluster_write_text_matrix  rms.matrix --nthreads 8 --sse3</code>  # Outputs file rms.matrix\n",
      "\n",
      "Script [correlate_rms_I.py](files/scrkinase/kmeans_hierarchy/centroids/correlate_rms_I.py) reads file centroids.agglomeration.history to fetch RMSD and centoid ID pairs at each step of the clustering. Then calculate I(Q) for each centroid and similarity beween the pairs. Finally, compare RMSD and similarity.\n",
      "\n",
      "<code>python correlate_rms_I.py<code>  # outputs file centroid_rms_vs_i.dat\n",
      "<center><a href=\"files/scrkinase/kmeans_hierarchy/centroids/centroid_rms_vs_i.png\"><img src=\"files/scrkinase/kmeans_hierarchy/centroids/centroid_rms_vs_i.png\" width=\"400\" alt=\"documents/scrkinase/kmeans_hierarchy/centroids/centroid_rms_vs_i.png\"></a></center>  \n",
      "There's no correlation between RMSD and Similarity for the centroid pairs in the clustering process.\n",
      "\n",
      "Script [correlate_rms_I.v2.py](files/scrkinase/kmeans_hierarchy/centroids/correlate_rms_I.v2.py) reads file <i>rms.matrix</i> to fetch centroid RMSD and Similarity in I(Q) for all centroid pairs. Finally, compare RMSD and similarity.\n",
      "\n",
      "<code>python correlate_rms_I.v2.py<code>  # outputs file all_rms_vs_i.dat\n",
      "<center><a href=\"files/scrkinase/kmeans_hierarchy/centroids/all_rms_vs_i.png\"><img src=\"files/scrkinase/kmeans_hierarchy/centroids/all_rms_vs_i.png\" width=\"400\" alt=\"documents/scrkinase/kmeans_hierarchy/centroids/all_rms_vs_i.png\"></a></center>  \n",
      "There's a mild correlation between RMSD and Similarity for all centroid pairs.\n",
      "\n",
      "These results indicate that SANS profile is quite insensitive to the fluctuations present in this ensemble, possibly because the fluctuations are quite local. On the other hand, we can retrieve the mild correlation by doing ensemble averages, that is, comparing properties averaged over each cluster or over each pair or clusters.\n",
      "\n",
      "[Github issue #22](https://github.com/jmborr/LDRDSANS/issues/22): Correlate average RMSD and average I(Q) similarity between pair of clusters. Script [correlate_avrms_avI.py](files/scrkinase/kmeans_hierarchy/centroids/correlate_avrms_avI.py) reads file <i>rms.matrix</i> to fetch centroid RMSD and Similarity in I(Q) for all centroid pairs. Then and starting from the top of the cluster hierarchy and goin \"down\" on clustering level, compare RMSD and similarity for each pair of clusters. The way to do this is to compute RMSD for all possible pairs resulting from picking one conformation from cluster <i>A</i> and one conformation from cluster <i>B</i>, then average the obtained RMSD values. We do the same for the similarity between SANS profiles. We then plot this average RMSD against average similarity.\n",
      "\n",
      "<code>python correlate_avrms_avI.py<code>  # outputs file correlate_avrms_avI.dat\n",
      "<center><a href=\"files/scrkinase/kmeans_hierarchy/centroids/correlate_avrms_avI.png\"><img src=\"files/scrkinase/kmeans_hierarchy/centroids/correlate_avrms_avI.png\" width=\"400\" alt=\"documents/scrkinase/kmeans_hierarchy/centroids/correlate_avrms_avI.png\"></a>  \n",
      "The plot shows cluster comparisons at different clustering levels. Now the correlation is markely strong.</center> "
     ]
    },
    {
     "cell_type": "markdown",
     "metadata": {},
     "source": [
      "<h2>hiAPP Benchmark</h2>\n",
      "Human IAPP (1-37), the diabetes II peptide. I requested from the authors of [Zerze15](documents/hiAPP/Zerze15.pdf) to send me trajectories of this intrinsically disordered peptide.  \n",
      "We create dedicted subdirectory <i>hiAPP</i>"
     ]
    },
    {
     "cell_type": "markdown",
     "metadata": {},
     "source": [
      "(<a href='#hiAPP_benchmark'>Top</a>)<a id='hiAPP_benchmark.trajfiles'></a><h3>Trajectory files</h3>\n",
      "[Github issue #23](https://github.com/jmborr/LDRDSANS/issues/23)  \n",
      "Within subdirectory <i>hiAPP</i>:  \n",
      "- <i>hiAPP.pdb</i>, PDB for visualization.\n",
      "- <i>bemd_neutral.xtc</i>, time interval 300ns to 650ns, saved every 5ps (70000 frames).  \n",
      "- <i>remd_300K_50ns-200ns.xtc</i>, time interval 50ns to 200ns, saved at every 20 ps (7500 frames). \n",
      "\n",
      "Both trajectories are at 300 K. They are protein-only coordinates. Trayectories show a rich variety of secondary and tertiary structures.  \n",
      "Using VMD, I merged the two trajectories unto <i>hiAPP.dcd</i> (77500 frames)."
     ]
    },
    {
     "cell_type": "markdown",
     "metadata": {},
     "source": [
      "(<a href='#hiAPP_benchmark'>Top</a>)<a id='hiAPP_benchmark.clustering'></a><h3>Clustering</h3>  \n",
      "Within subdirectory <i>hiAPP</i>  \n",
      "\n",
      "We run [cluster.sh](files/hiAPP/cluster.sh) to carry out the two-step clustering process: (i) k-means clustering to create a set of centroids, and (ii) hierarchical clustering of the centroids. <code>cluster.sh</code> calls the following scripts:  \n",
      "\n",
      "- [partition_trajectory.py](files/hiAPP/partition_trajectory.py)\n",
      "- [kmeans_cluster.py](files/hiAPP/kmeans_cluster.py)\n",
      "- [centroidsdcd2binpos.tcl](files/hiAPP/centroidsdcd2binpos.tcl)\n",
      "- [fpch2scph.py](files/hiAPP/fpch2scph.py)\n",
      "- [plot_linkage_matrix.py](files/hiAPP/plot_linkage_matrix.py)\n",
      "\n",
      "Output:\n",
      "\n",
      "- Subdirectories <i>p000/</i> to <i>p009/</i> where the k-means clustering is carried out on each of the ten chunks in which the trajectory is split, producing 100 centroids for each chunk. A total of 1000 centroids.\n",
      "- <i>centroids/</i> subdirectory where the hierarchical clustering of the 100 centroids is carried out, producing a trajectory-like <code>centroids.dcd</code> file containing all centroids, and a linkage matrix for the hiearchical clustering.\n",
      "\n",
      "<center><a href=\"files/hiAPP/centroids/linkage_matrix.png\"><img src=\"files/hiAPP/centroids/linkage_matrix.png\" width=\"400\"></a>  linkage_matrix.png</center>\n",
      "\n",
      "Even though hiAPP is 37 residues long, the RMSD between centroids is huge."
     ]
    },
    {
     "cell_type": "markdown",
     "metadata": {},
     "source": [
      "(<a href='#hiAPP_benchmark'>Top</a>)<a id='hiAPP_benchmark.sassena'></a><h3>Sassena</h3>  \n",
      "\n",
      "Within subdirectory <i>hiAPP/centroids</i>  \n",
      "\n",
      "We run [sans.sh](files/hiAPP/centroids/sans.sh) to carry out the Sassena run on the <code>centroids.dcd</code> trajectory, and process the sassena output file <code>signal.h5</code>. Script <code>sans.sh</code> uses [process_signal.py](files/hiAPP/centroids/process_signal.py) to save the SANS profile for each centroid in Nexus file <code>centroids.sans.nxs</code> and <code>centroids.sans.dat</code>.\n",
      "\n",
      "<center><a href=\"files/hiAPP/centroids/centroids.sans.png\"><img src=\"files/hiAPP/centroids/centroids.sans.png\" width=\"400\"></a>  centroids.sans.agr</center>"
     ]
    },
    {
     "cell_type": "markdown",
     "metadata": {},
     "source": [
      "(<a href='#hiAPP_benchmark'>Top</a>)<a id='hiAPP_benchmark.correlate_RMS_I'></a><h3>Correlate RMS and I(Q)</h3>  \n",
      "\n",
      "We use the 100 centroid conformations to calculate the RMS matrix and the matrix of I(Q) similarity $S_{ij}$:  \n",
      "<center>$S_{ij}^2 = \\frac{1}{N_Q} \\sum_{l=1}^{N_Q} (\\frac{I_i(Q_l)-I_j(Q_l)}{I_i(Q_l)+I_j(Q_l)})^2$</center>  \n",
      "\n",
      "In subdirectory <i>hiAPP/centroids/</i>:  \n",
      "\n",
      "We obtain the RMS matrix with <code>fast_protein_cluster</code>. In <i>scrkinase/kmeans_hierarchy/centroids</i>:  \n",
      "<code>fast_protein_cluster -i centroids -o centroids --binary_coords --cluster_rmsd --cluster_write_text_matrix  rms.matrix --nthreads 8 --sse3</code>  # Outputs file rms.matrix\n",
      "\n",
      "From calculations on the src-kinase benchmark, we know that SANS profile is quite insensitive to fluctuations present whitin an ensemble of conformtions, possibly because the fluctuations are short-range in lenght scale. On the other hand, we can recover a correlation by doing ensemble averages, that is, comparing properties averaged over each cluster members or over each pair or clusters members. Thus we correlate average RMSD and average I(Q) similarity between pair of clusters. Script [correlate_avrms_avI.py](files/hiAPP/centroids/correlate_avrms_avI.py) reads file <i>rms.matrix</i> to fetch centroid RMSD and Similarity in I(Q) for all centroid pairs. Then and starting from the top of the cluster hierarchy and goin \"down\" on clustering level, compare RMSD and similarity for each pair of clusters. The way to do this is to compute RMSD for all possible pairs resulting from picking one conformation from cluster <i>A</i> and one conformation from cluster <i>B</i>, then average the obtained RMSD values. We do the same for the similarity between SANS profiles. We then plot this average RMSD against average similarity.\n",
      "\n",
      "<center><a href=\"files/hiAPP/centroids/correlate_avrms_avI.png\"><img src=\"files/hiAPP/centroids/correlate_avrms_avI.png\" width=\"400\">  hiAPP/centroids/correlate_avrms_avI.png</a></center>   \n",
      "The plot shows cluster comparisons for up to and including five clustering levels, starting from the top in the hiearchy of clustering."
     ]
    },
    {
     "cell_type": "markdown",
     "metadata": {},
     "source": [
      "<h2>Clustering</h2>"
     ]
    },
    {
     "cell_type": "markdown",
     "metadata": {},
     "source": [
      "(<a href='#clustering'>Top</a>)<a id='clustering.fast_protein_cluster'></a><h3>Program fast_protein_cluster</h3>  \n",
      "I forked the [original Github repository](https://github.com/lhhunghimself/fast_protein_cluster) into Github repository [camm/fast_protein_cluster](https://github.com/camm/fast_protein_cluster). A local copy is clone under subdirectory <i>fast_protein_cluster</i>.  \n",
      "\n",
      "I compiled this program in Titan: <i>/ccs/proj/bip141/sw/titan/fast_protein_cluster/v0.4</i> and created a <code>module</code> file.  Refer to GitHub issue [Compile newest fast_protein_cluster in Titan](https://github.com/jmborr/LDRDSANS/issues/7) and wikipage [Installation on different environments](https://github.com/camm/fast_protein_cluster/wiki/Installation-on-different-environments) for installation instructions.\n"
     ]
    },
    {
     "cell_type": "markdown",
     "metadata": {},
     "source": [
      "<h2>Fireworks</h2>"
     ]
    },
    {
     "cell_type": "markdown",
     "metadata": {},
     "source": [
      "(<a href='#fireworks'>Top</a>)<a id='fireworks.localtest'></a><h3>Run fast_protein_cluster test with a workflow in the local workstation</h3>  \n",
      "Create a directory for the database, and start the mongo database:  \n",
      "<code>ROOTDIR=/projects/development/LDRDSANS/fireworks/localtest\n",
      "mkdir -p $ROOTDIR/db\n",
      "numactl --interleave=all mongod --logpath $ROOTDIR/mongod.log --dbpath $ROOTDIR/db --fork &\n",
      "</code>\n",
      "\n",
      "In <i>fireworks/localtest</i>, Python script [test_cluster.py](files/fireworks/localtest/test_cluster.py) sets up the launchpad and executes a single firetask, script [test_cluster.sh](files/fireworks/localtest/test_cluster.sh) that:  \n",
      "\n",
      "* Load environment for the clustering program\n",
      "* Set up the scratch directory\n",
      "* Transfer input files\n",
      "* Run the cluster script\n",
      "\n",
      "One could create one firetask for each of these tasks, though."
     ]
    },
    {
     "cell_type": "markdown",
     "metadata": {},
     "source": [
      "(<a href='#fireworks'>Top</a>)<a id='fireworks.remotetest'></a><h3>Run fast_protein_cluster in Titan</h3>  \n",
      "See Github issue [#12](https://github.com/jmborr/LDRDSANS/issues/12) for details.   \n",
      "In subdirectory <i>fireworks/remotetest</i>  \n",
      "Workflow [transfer_and_cluster_CA.yaml](files/fireworks/remotetest/transfer_and_cluster_CA.yaml) send input files, runs the cluster job, and bring the clustered files back to SNS.  \n",
      "\n",
      "<code>lpad -l my_launchpad.yaml reset\n",
      "lpad -l my_launchpad.yaml add transfer_and_cluster_CA.yaml</code>\n",
      "\n",
      "Clustering output files cannot be transferred to desired target directory <i>/SNS/lustre/CAMM/users/jbq/research/LDRDSANS/cel7a/initial_runs/1</i>. Instead, I could transfer them to I/i>/SNS/users/jbq/Downloads/</i>."
     ]
    },
    {
     "cell_type": "markdown",
     "metadata": {},
     "source": [
      "(<a href='#pegasus'>Top</a>)<a id='pegasus.videoconference'></a><h3>videoconference March 2017</h3>\n",
      "\n",
      "Tutorial and jupyter notebooks in []()\n",
      "\n",
      "- Prepakackaged submission scripts to different queues managers.\n",
      "- abstract workflow defines the topology of the workflow. Compare against <i>executable workflow</i>.\n",
      "- Python API geared towards generating an XML file describing the workflow. In this context, running the python script is similar to a compiling step where the XML file plays the role of the object file.\n",
      "\n",
      "Vickie's scripts to generate the LiCl workflows in Github repository [SNS-Workflow](https://github.com/pegasus-isi/SNS-Workflow)."
     ]
    },
    {
     "cell_type": "markdown",
     "metadata": {},
     "source": [
      "<a id='sassena'></a><h2>Sassena</h2>"
     ]
    },
    {
     "cell_type": "markdown",
     "metadata": {},
     "source": [
      "(<a href='#sassena'>Top</a>)<a id='sassena.coherentcalc'></a><h3>Details on how to calculate the coherent structure factor with sassena v1.4.1</h3>\n",
      "\n",
      "Comparison of experimental and calculated coherent structure factor requires a series of corrections for the simulation:\n",
      "\n",
      "In experiments, signal from bulk water is substracted from the signal of the water+protein. Thus what experiment measure is the *excess* scattering due to the protein and the ordering of the water molecules in the hydration shell. Substractin is carried out by scattering from a sample containing only water. Thus, the substracted signal is the difference between the scattering length densities of the two samples (the pure-water sample and the water+protein sample). In simulations we can't just ignore all the water because hydration water contributes to the scattering signal differently than bulk water. Thus, to each atomic scattering length we substract an effective atomic scattering length $b_{solvent}$ corresponding to that of the average solvent-atom, $b_i^{coh} - b_{solvent}*\\kappa_i*V_i$. Note that in the simulations we also have counterions that will also contribute to $b_{solvent}$, albeit modestly. Atomic volume $V_i$ is taken from tabulated tables (related to Van deer Waals radius) and factor $\\kappa_i$ accounts for free volume when atoms do not pack optimally. For protein atoms $\\kappa \\simeq 1.02$ denoting near optimal packing. For atoms in water $\\kappa \\simeq 1.49$ denoting the disorder of the liquid. Read **Merzel02** for details on $b_{solvent}$ and $\\kappa_i$.\n",
      "\n",
      "Sassena can calculate $b_{solvent}$ and spit it to standard output. Input configuration file [scatter_sans_v1.4.1.xml](files/sassena/accounting_for_background/scatter_sans_v1.4.1.xmll) does a short computation of the coherent structure factor. The important pieces in this file are selections for water and rest, as well as staging the water selection:\n",
      "\n",
      "\t<selections>\n",
      "\t\t<selection>\n",
      "\t\t\t<type>range</type>\n",
      "\t\t\t<from>3774</from> \n",
      "\t\t\t<to>71327</to>\n",
      "\t\t\t<name>water</name>\n",
      "\t\t</selection>\n",
      "\t\t<selection>\n",
      "\t\t\t<type>range</type>\n",
      "\t\t\t<from>0</from>\n",
      "\t\t\t<to>3773</to>\n",
      "\t\t\t<name>solute</name>\n",
      "\t\t</selection>\n",
      "\t</selections>\n",
      "\n",
      "and\n",
      "\n",
      "\t<background>\n",
      "\t\t<factor>0.552409501897894</factor>\n",
      "\t\t<kappas>\n",
      "\t\t\t<kappa>\n",
      "\t\t\t\t<selection>water</selection> \n",
      "\t\t\t\t<value>1.49</value>\n",
      "\t\t\t</kappa>\n",
      "\t\t\t<kappa>\n",
      "\t\t \t\t<selection>solute</selection>\n",
      "\t\t \t\t<value>1.02</value>\n",
      "\t\t\t</kappa>\n",
      "\t\t</kappas>\n",
      "\t</background>\n",
      "\n",
      "and\n",
      "\n",
      "    <stager>\n",
      "        <target>water</target>\n",
      "    </stager>  \n",
      "\n",
      "Other details to bear in mind with writing the input XML file:\n",
      "\n",
      "    <type>all</type>\t\n",
      "\t<dsp>\n",
      "\t\t<type>square</type>   \t    \n",
      "\t\t<method>fftw</method>\n",
      "\t</dsp>\n",
      "\n"
     ]
    },
    {
     "cell_type": "markdown",
     "metadata": {},
     "source": [
      "(<a href='#sassena'>Top</a>)<a id='sassena.coherentcalcV1.5.0'></a><h3>Details on how to calculate the coherent structure factor with sassena v1.5.0</h3>\n",
      "\n",
      "The theoretical basis is the same as in Section <a href='#sassena.coherentcalc'>Details on how to calculate the coherent structure factor with sassena v1.4.1</a>. The change is that we can request calculation of $b_{solvent}$ in the XML file by setting a selection:\n",
      "\n",
      "\t<background>\n",
      "\t\t<factor>\n",
      "            <selection>water</selection>\n",
      "        </factor>\n",
      "\t\t<kappas>\n",
      "\t\t\t<kappa>\n",
      "\t\t\t\t<selection>water</selection> \n",
      "\t\t\t\t<value>1.49</value>\n",
      "\t\t\t</kappa>\n",
      "\t\t\t<kappa>\n",
      "\t\t \t\t<selection>solute</selection>\n",
      "\t\t \t\t<value>1.02</value>\n",
      "\t\t\t</kappa>\n",
      "\t\t</kappas>\n",
      "\t</background>\n",
      "\n",
      "See input configuration file [scatter_sans.xml](files/sassena/accounting_for_background/scatter_sans.xml) for details."
     ]
    },
    {
     "cell_type": "markdown",
     "metadata": {},
     "source": [
      "<a id='Meetings'></a><h2>Meetings</h2>"
     ]
    },
    {
     "cell_type": "markdown",
     "metadata": {},
     "source": [
      "(<a href='#Meetings'>Top</a>)<a id='Meetings.2016.03.16'></a><h3>Meeting 2016.03.16</h3>\n",
      "Discussed topics:  \n",
      "- Details of calculation of coherent scattering with sassena.\n",
      "- Comparing I(Q) for the centroids *via* $\\chi^2$, thus creating a (symmetric) similarity matrix $I\\chi^2_{i,j}$ for a given set of centroids.\n",
      "- Correlation between $RMSD_{i,j}$ and $I\\chi^2_{i,j}$ for centroids *i* and *j*. We are interested in those pair of centroids with high RSMD and low $I\\chi^2$, signifying two very different structures giving rise to very similar I(Q) signals.\n",
      "- Should different Q-ranges have different weight when comparing two structure factors? If we are interested in large conformational changes, then we should be focusing in the low-Q range of the I(Q) signal.\n",
      "- Loukas asked how to compare the structure of two scrkinases since sources of RMSD may arise from the intrinsically disordered fragment (residues 1 to 85) or from different orientation between the SH2 and SH3 domains. I think that the clustering will nicely allocate these cases into different clusters."
     ]
    },
    {
     "cell_type": "markdown",
     "metadata": {},
     "source": [
      "(<a href='#Meetings'>Top</a>)<a id='Meetings.2017.05.17'></a><h3>Progress report 2017.05.17</h3>\n",
      "Power point slides for Loukas: [report_20170517.pptx](files/documents/reports/report_20170517.pptx)  \n",
      "\n",
      "<center>\n",
      "<a href=\"files/documents/reports/report_20170517/Slide1.GIF\"><img src=\"files/documents/reports/report_20170517/Slide1.GIF\" width=\"500\"></a>  \n",
      "<a href=\"files/documents/reports/report_20170517/Slide2.GIF\"><img src=\"files/documents/reports/report_20170517/Slide2.GIF\" width=\"500\"></a>  \n",
      "<a href=\"files/documents/reports/report_20170517/Slide3.GIF\"><img src=\"files/documents/reports/report_20170517/Slide3.GIF\" width=\"500\"></a>\n",
      "</center>\n"
     ]
    },
    {
     "cell_type": "markdown",
     "metadata": {},
     "source": [
      "(<a href='#Table of Contents'>Top</a>)<a id='Syntax'></a><h3>Syntax Examples</h3>\n",
      "local link: [link](files/link)</br>\n",
      "remote link: <a href=\"http://ambermd.org/\">http://ambermd.org</a>\n",
      "<font face=\"courier new\"> font face=\"courier new\" </font><br/>\n",
      "$$S_{model}(Q,E)=A(Q)\\cdot S_{elastic}(E) + B(Q)\\cdot S_{simulation}(Q,E)\\otimes S_{elastic}(E) + C(Q)+D(Q)\\cdot E$$\n",
      "<pre> Quoted text </pre>\n",
      "<center><table><tr>\n",
      "<td><a href=\"files/image.png\"><img src=\"files/image.png\" width=\"300\" height=\"250\" alt=\"image here\"></a> <br/>\n",
      "    <i>image caption</i></td>\n",
      "<td>some text</td>\n",
      "</tr></table></center>"
     ]
    },
    {
     "cell_type": "code",
     "collapsed": false,
     "input": [],
     "language": "python",
     "metadata": {},
     "outputs": [],
     "prompt_number": null
    }
   ],
   "metadata": {}
  }
 ]
}